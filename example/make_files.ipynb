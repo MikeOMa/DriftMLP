{
 "cells": [
  {
   "cell_type": "code",
   "execution_count": null,
   "metadata": {},
   "outputs": [
    {
     "name": "stdout",
     "output_type": "stream",
     "text": [
      "The autoreload extension is already loaded. To reload it, use:\n",
      "  %reload_ext autoreload\n",
      "Creating network from drifter data\n",
      "Making transition matrix with drogued drifters,see file_to_network functionto change this\n"
     ]
    }
   ],
   "source": [
    "%load_ext autoreload\n",
    "%autoreload 2\n",
    "#import os\n",
    "import DriftMLP\n",
    "import networkx as nx\n",
    "import os\n",
    "file = os.environ['DRIFTFILE']\n",
    "#drift_kwargs = {'variables':['position','drogue', 'datetime'], 'drop_na':False, 'drogue':True}\n",
    "#day_cut_off=5\n",
    "#silent = False\n",
    "#network = DriftMLP.file_to_network(file, drift_kwargs, day_cut_off)\n",
    "#nx.write_gml(network, 'transition.gml')\n",
    "## OR\n",
    "mlp_class = DriftMLP.MLP(file)\n",
    "nx.write_gml(mlp_class.net, 'transition.gml')\n",
    "\n",
    "##\n",
    "mlp_class = DriftMLP.MLP('transition.gml')\n"
   ]
  },
  {
   "cell_type": "code",
   "execution_count": null,
   "metadata": {},
   "outputs": [],
   "source": [
    "ireland = [-15, 54]\n",
    "miami = [-80, 28]\n",
    "all_edges = list(mlp_class.net.edges)\n",
    "display(mlp_class.net.edges[all_edges[0]])\n",
    "sp = mlp_class.get_mlpath(ireland,miami)"
   ]
  },
  {
   "cell_type": "code",
   "execution_count": null,
   "metadata": {},
   "outputs": [],
   "source": [
    "sp.plot()"
   ]
  },
  {
   "cell_type": "code",
   "execution_count": 35,
   "metadata": {},
   "outputs": [
    {
     "data": {
      "text/plain": [
       "['/home/omalley3/Documents/PhD_Docs/MakeDriftH5py/makeDriftdatabase/drift',\n",
       " 'h5']"
      ]
     },
     "execution_count": 35,
     "metadata": {},
     "output_type": "execute_result"
    }
   ],
   "source": [
    "file.split('.')"
   ]
  },
  {
   "cell_type": "code",
   "execution_count": null,
   "metadata": {},
   "outputs": [],
   "source": [
    "sp.sp"
   ]
  },
  {
   "cell_type": "code",
   "execution_count": null,
   "metadata": {},
   "outputs": [],
   "source": []
  }
 ],
 "metadata": {
  "kernelspec": {
   "display_name": "drift_mlp",
   "language": "python",
   "name": "drift_mlp"
  },
  "language_info": {
   "codemirror_mode": {
    "name": "ipython",
    "version": 3
   },
   "file_extension": ".py",
   "mimetype": "text/x-python",
   "name": "python",
   "nbconvert_exporter": "python",
   "pygments_lexer": "ipython3",
   "version": "3.6.9"
  }
 },
 "nbformat": 4,
 "nbformat_minor": 4
}
