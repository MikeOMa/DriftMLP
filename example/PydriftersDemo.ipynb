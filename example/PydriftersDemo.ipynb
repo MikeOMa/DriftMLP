{
 "cells": [
  {
   "cell_type": "code",
   "execution_count": 1,
   "metadata": {},
   "outputs": [],
   "source": [
    "import DriftMLP\n",
    "import matplotlib.pyplot as plt\n",
    "mlp_class = DriftMLP.MLP('transition.gml')"
   ]
  },
  {
   "cell_type": "code",
   "execution_count": 3,
   "metadata": {},
   "outputs": [],
   "source": [
    "import igraph"
   ]
  },
  {
   "cell_type": "code",
   "execution_count": 4,
   "metadata": {},
   "outputs": [
    {
     "data": {
      "text/plain": [
       "<module 'igraph' from '/home/omalley3/anaconda3/envs/driftmlp/lib/python3.8/site-packages/igraph/__init__.py'>"
      ]
     },
     "execution_count": 4,
     "metadata": {},
     "output_type": "execute_result"
    }
   ],
   "source": [
    "igraph"
   ]
  }
 ],
 "metadata": {
  "kernelspec": {
   "display_name": "driftmlp",
   "language": "python",
   "name": "driftmlp"
  },
  "language_info": {
   "codemirror_mode": {
    "name": "ipython",
    "version": 3
   },
   "file_extension": ".py",
   "mimetype": "text/x-python",
   "name": "python",
   "nbconvert_exporter": "python",
   "pygments_lexer": "ipython3",
   "version": "3.8.3"
  }
 },
 "nbformat": 4,
 "nbformat_minor": 4
}
