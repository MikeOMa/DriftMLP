{
 "cells": [
  {
   "cell_type": "code",
   "execution_count": 2,
   "metadata": {},
   "outputs": [],
   "source": [
    "%load_ext line_profiler\n",
    "%load_ext memory_profiler\n",
    "\n",
    "from DriftMLP.drifter_indexing import driftiter\n",
    "from DriftMLP.drifter_indexing import story\n",
    "import DriftMLP\n",
    "import os\n",
    "driftfile = os.environ['DRIFTFILE']\n",
    "drift_gen = driftiter.generator(driftfile)\n",
    "drift_kwargs = {'variables': ['position', 'drogue', 'datetime'],\n",
    "                'drop_na': False,\n",
    "                'drogue': True}\n",
    "###\n",
    "\n",
    "#%timeit DriftMLP.file_to_network(driftfile, drift_kwargs)\n",
    "#%memit DriftMLP.file_to_network(driftfile, drift_kwargs)\n",
    "\n"
   ]
  },
  {
   "cell_type": "code",
   "execution_count": 8,
   "metadata": {},
   "outputs": [
    {
     "data": {
      "text/plain": [
       "dict_keys(['datetime', 'drogue', 'position', 'position_variance', 'sst', 'sst_variance', 'velocity', 'deploydate', 'drogueoffdate', 'enddate', 'id'])"
      ]
     },
     "execution_count": 8,
     "metadata": {},
     "output_type": "execute_result"
    }
   ],
   "source": [
    "\n",
    "q=[]\n",
    "c=0\n",
    "\n",
    "###\n",
    "for i in drift_gen():\n",
    "    q.append(i['position'])\n",
    "    if c == 50:\n",
    "        c+=1\n",
    "        break\n",
    "i.keys()"
   ]
  },
  {
   "cell_type": "code",
   "execution_count": 6,
   "metadata": {},
   "outputs": [
    {
     "data": {
      "text/plain": [
       "dict_keys(['datetime', 'drogue', 'position', 'position_variance', 'sst', 'sst_variance', 'velocity', 'deploydate', 'drogueoffdate', 'enddate', 'id'])"
      ]
     },
     "execution_count": 6,
     "metadata": {},
     "output_type": "execute_result"
    }
   ],
   "source": [
    "i.keys()"
   ]
  },
  {
   "cell_type": "code",
   "execution_count": 3,
   "metadata": {},
   "outputs": [
    {
     "name": "stdout",
     "output_type": "stream",
     "text": [
      "1.19 µs ± 9.04 ns per loop (mean ± std. dev. of 7 runs, 1000000 loops each)\n",
      "1.19 µs ± 4.62 ns per loop (mean ± std. dev. of 7 runs, 1000000 loops each)\n",
      "1.4 µs ± 3.53 ns per loop (mean ± std. dev. of 7 runs, 1000000 loops each)\n"
     ]
    }
   ],
   "source": [
    "### checking if numpy/basic would help speed wise\n",
    "import h3.api.numpy_int as h3\n",
    "%timeit h3.geo_to_h3(q[4][0,0], q[4][0,1], 3)\n",
    "import h3.api.basic_int as h3\n",
    "%timeit h3.geo_to_h3(q[4][0,0], q[4][0,1], 3)\n",
    "import h3 as h3\n",
    "%timeit h3.geo_to_h3(q[4][0,0], q[4][0,1], 3)"
   ]
  },
  {
   "cell_type": "code",
   "execution_count": null,
   "metadata": {},
   "outputs": [],
   "source": []
  },
  {
   "cell_type": "code",
   "execution_count": 4,
   "metadata": {},
   "outputs": [
    {
     "name": "stdout",
     "output_type": "stream",
     "text": [
      "1min 44s ± 68 ms per loop (mean ± std. dev. of 7 runs, 1 loop each)\n",
      "peak memory: 1519.10 MiB, increment: 511.32 MiB\n"
     ]
    }
   ],
   "source": [
    "%timeit h3_stories = story.get_story(drift_gen(**drift_kwargs))\n",
    "%memit h3_stories = story.get_story(drift_gen(**drift_kwargs))"
   ]
  },
  {
   "cell_type": "code",
   "execution_count": 5,
   "metadata": {},
   "outputs": [
    {
     "data": {
      "text/plain": [
       "array([], shape=(0, 2), dtype=float64)"
      ]
     },
     "execution_count": 5,
     "metadata": {},
     "output_type": "execute_result"
    }
   ],
   "source": [
    "q[0]"
   ]
  },
  {
   "cell_type": "code",
   "execution_count": null,
   "metadata": {},
   "outputs": [],
   "source": []
  }
 ],
 "metadata": {
  "kernelspec": {
   "display_name": "driftmlp",
   "language": "python",
   "name": "driftmlp"
  },
  "language_info": {
   "codemirror_mode": {
    "name": "ipython",
    "version": 3
   },
   "file_extension": ".py",
   "mimetype": "text/x-python",
   "name": "python",
   "nbconvert_exporter": "python",
   "pygments_lexer": "ipython3",
   "version": "3.8.3"
  }
 },
 "nbformat": 4,
 "nbformat_minor": 4
}
